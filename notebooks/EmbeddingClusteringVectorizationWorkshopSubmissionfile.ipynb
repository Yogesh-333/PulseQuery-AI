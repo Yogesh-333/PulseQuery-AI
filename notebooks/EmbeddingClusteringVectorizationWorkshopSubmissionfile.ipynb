{
 "cells": [
  {
   "cell_type": "markdown",
   "metadata": {},
   "source": [
    "## Word Embeddings, Clustering and Vectorization Workshop\n",
    "Tutorial for extracting word embeddings from words.<br>"
   ]
  },
  {
   "cell_type": "markdown",
   "metadata": {},
   "source": [
    "## Part 1: Vector Stores and Dimensionality Reduction"
   ]
  },
  {
   "cell_type": "markdown",
   "metadata": {},
   "source": [
    "### 🔤 Introduction to Word2Vec\n",
    "\n",
    "**What is Word2Vec?**\n",
    "\n",
    "Word2Vec is a popular algorithm used in Natural Language Processing (NLP) to transform words into vector representations.\n",
    "It learns these word vectors (embeddings) from a large collection of text so that words with similar meanings are located close to each other in a high-dimensional space.\n",
    "\n",
    "**Who developed it and when?**\n",
    "\n",
    "Word2Vec was developed by a team of researchers at Google, led by Tomas Mikolov, in 2013.\n",
    "\n",
    "**Who currently maintains and supports new releases?**\n",
    "\n",
    "While the original research came from Google, the open-source Python library gensim now maintains Word2Vec functionality.\n",
    "gensim is maintained by the open-source community, originally developed by Radim Řehůřek."
   ]
  },
  {
   "cell_type": "markdown",
   "metadata": {},
   "source": [
    "### 🔤 Word2Vec embeddings using the Gensim library\n",
    "\n",
    "Word2Vec is a popular technique for learning word embeddings, which are dense vector representations of words that capture semantic relationships between words based on their context.<br>\n",
    "As discussed, Word2Vec have 2 types, Skipgrams and CBOW. Where SkipGrams are trained to predict context words given the target word, however CBOW is trained to predict target words given its context.\n"
   ]
  },
  {
   "cell_type": "markdown",
   "metadata": {},
   "source": [
    "- Requirements: downloading punkt from nltk, and installing gensim library"
   ]
  },
  {
   "cell_type": "code",
   "execution_count": 22,
   "metadata": {},
   "outputs": [
    {
     "name": "stdout",
     "output_type": "stream",
     "text": [
      "Downloading 'punkt' tokenizer...\n"
     ]
    },
    {
     "name": "stderr",
     "output_type": "stream",
     "text": [
      "[nltk_data] Downloading package punkt to c:\\Users\\mathe\\Downloads\\Embe\n",
      "[nltk_data]     ddingClusteringVectorizationWorkshop\\nltk_data...\n",
      "[nltk_data]   Unzipping tokenizers\\punkt.zip.\n",
      "[nltk_data] Downloading package punkt_tab to c:\\Users\\mathe\\Downloads\\\n",
      "[nltk_data]     EmbeddingClusteringVectorizationWorkshop\\nltk_data...\n"
     ]
    },
    {
     "name": "stdout",
     "output_type": "stream",
     "text": [
      "Downloading 'punkt_tab' tokenizer...\n",
      "NLTK Data Paths: ['C:\\\\Users\\\\mathe/nltk_data', 'c:\\\\Users\\\\mathe\\\\Downloads\\\\EmbeddingClusteringVectorizationWorkshop\\\\.venv\\\\nltk_data', 'c:\\\\Users\\\\mathe\\\\Downloads\\\\EmbeddingClusteringVectorizationWorkshop\\\\.venv\\\\share\\\\nltk_data', 'c:\\\\Users\\\\mathe\\\\Downloads\\\\EmbeddingClusteringVectorizationWorkshop\\\\.venv\\\\lib\\\\nltk_data', 'C:\\\\Users\\\\mathe\\\\AppData\\\\Roaming\\\\nltk_data', 'C:\\\\nltk_data', 'D:\\\\nltk_data', 'E:\\\\nltk_data', 'c:\\\\Users\\\\mathe\\\\Downloads\\\\EmbeddingClusteringVectorizationWorkshop\\\\nltk_data']\n",
      "Contents of nltk_data: ['corpora', 'tokenizers']\n"
     ]
    },
    {
     "name": "stderr",
     "output_type": "stream",
     "text": [
      "[nltk_data]   Unzipping tokenizers\\punkt_tab.zip.\n"
     ]
    }
   ],
   "source": [
    "# importing needed libraries\n",
    "import nltk\n",
    "from nltk.tokenize import word_tokenize\n",
    "from gensim.models import Word2Vec\n",
    "import re\n",
    "import os\n",
    "\n",
    "# Warning: This download will copy files to your home directory.\n",
    "# For example, on Linux, it will copy files to ~/.nltk_data.\n",
    "# In Windows, it will copy files to C:\\Users\\YourAccount\\AppData\\Roaming\n",
    "# nltk.download('punkt')\n",
    "\n",
    "# A better way to handle the download is to:\n",
    "# Ensure 'punkt' is available and nltk_data path is set\n",
    "nltk_data_path = os.path.join(os.getcwd(), 'nltk_data')\n",
    "print(\"Downloading 'punkt' tokenizer...\")\n",
    "nltk.download('punkt', download_dir=nltk_data_path, force=True)\n",
    "print(\"Downloading 'punkt_tab' tokenizer...\")\n",
    "nltk.download('punkt_tab', download_dir=nltk_data_path, force=True)\n",
    "\n",
    "# Always append the custom nltk_data path (if not already present)\n",
    "if nltk_data_path not in nltk.data.path:\n",
    "    nltk.data.path.append(nltk_data_path)\n",
    "\n",
    "# Debugging paths and contents\n",
    "print(\"NLTK Data Paths:\", nltk.data.path)\n",
    "print(\"Contents of nltk_data:\", os.listdir(nltk_data_path))"
   ]
  },
  {
   "cell_type": "markdown",
   "metadata": {},
   "source": [
    "**How do I use Word2Vec in Python and Jupyter Notebooks?**\n",
    "\n",
    "To use Word2Vec in Python, we typically start by following the NLP pipeline to produce a set of tokens:"
   ]
  },
  {
   "cell_type": "code",
   "execution_count": 23,
   "metadata": {},
   "outputs": [
    {
     "name": "stderr",
     "output_type": "stream",
     "text": [
      "[nltk_data] Downloading package punkt to\n",
      "[nltk_data]     C:\\Users\\mathe\\AppData\\Roaming\\nltk_data...\n",
      "[nltk_data]   Package punkt is already up-to-date!\n",
      "[nltk_data] Downloading package stopwords to\n",
      "[nltk_data]     C:\\Users\\mathe\\AppData\\Roaming\\nltk_data...\n",
      "[nltk_data]   Package stopwords is already up-to-date!\n",
      "[nltk_data] Downloading package wordnet to\n",
      "[nltk_data]     C:\\Users\\mathe\\AppData\\Roaming\\nltk_data...\n",
      "[nltk_data]   Package wordnet is already up-to-date!\n"
     ]
    }
   ],
   "source": [
    "\n",
    "# # Sample Sentence\n",
    "# text = \"\"\"\n",
    "# Natural language processing (NLP) is a subfield of artificial intelligence (AI) that focuses on the interaction between computers and humans through natural language. NLP techniques aim to enable computers to understand, interpret, and generate human language in a way that is both meaningful and contextually relevant.\n",
    "# \"\"\"\n",
    "# tokenized_words = word_tokenize(text.lower())\n",
    "\n",
    "\n",
    "import nltk\n",
    "import re\n",
    "from nltk.tokenize import word_tokenize\n",
    "from nltk.corpus import stopwords\n",
    "from nltk.stem import WordNetLemmatizer\n",
    "\n",
    "# Setup\n",
    "nltk.download('punkt')\n",
    "nltk.download('stopwords')\n",
    "nltk.download('wordnet')\n",
    "\n",
    "# Load the custom corpus from the file\n",
    "with open(\"./Data/corpus.txt\", \"r\", encoding=\"utf-8\") as file:\n",
    "    raw_corpus = file.read()\n",
    "\n",
    "# Preprocessing function\n",
    "def preprocess(text):\n",
    "    text = text.lower()\n",
    "    text = re.sub(r'[^a-z\\s]', '', text)\n",
    "    tokens = word_tokenize(text.lower())\n",
    "    tokens = [w for w in tokens if w not in stopwords.words(\"english\")]\n",
    "    lemmatizer = WordNetLemmatizer()\n",
    "    tokens = [lemmatizer.lemmatize(w) for w in tokens]\n",
    "    return tokens\n",
    "\n",
    "# Preprocess and preview tokens\n",
    "tokenized_words = preprocess(raw_corpus)"
   ]
  },
  {
   "cell_type": "markdown",
   "metadata": {},
   "source": [
    "**What is a model in Word2Vec?**\n",
    "\n",
    "A Word2Vec model is a trained neural network that maps words from your dataset to numerical vectors (embeddings).\n",
    "The model learns word relationships based on how often they appear together in context.\n",
    "\n",
    "After the model is trained, each word in your vocabulary is now represented by a vector of numbers that can be used in tasks like similarity, clustering, or classification."
   ]
  },
  {
   "cell_type": "markdown",
   "metadata": {},
   "source": [
    "#### 🧠 Explanation of the model creation instruction\n",
    "\n",
    "- `sentences`: A list of tokenized sentences (in this case, [tokenized_words] means a list of words).\n",
    "- `vector_size=100`: Each word will be represented by a vector with 100 dimensions.\n",
    "- `window=5`: The model considers 5 words before and after the target word (context window).\n",
    "- `min_count=1`: Include all words that appear at least once.\n",
    "- `workers=4`: Uses 4 CPU threads to speed up training.\n",
    "\n",
    "**This model will learn how words relate to each other and store them as vectors in its internal memory.**"
   ]
  },
  {
   "cell_type": "code",
   "execution_count": 24,
   "metadata": {},
   "outputs": [],
   "source": [
    "\n",
    "# Create a model\n",
    "model_word2Vec = Word2Vec(sentences=[tokenized_words], vector_size=100, window=5,  min_count=1, workers=4)\n"
   ]
  },
  {
   "cell_type": "code",
   "execution_count": 25,
   "metadata": {},
   "outputs": [
    {
     "name": "stdout",
     "output_type": "stream",
     "text": [
      "Word vector for 'natural' using Word2Vec: [ 9.0618785e-03  1.3109152e-03 -4.4864449e-03  6.4336923e-03\n",
      "  5.5817906e-03  5.7150479e-03 -4.1356703e-04  5.7349759e-03\n",
      " -4.5927783e-04  3.0258710e-03  4.1768989e-03 -3.1018970e-03\n",
      " -4.9922140e-03 -9.9668335e-03  2.3343451e-03  7.7250255e-03\n",
      "  7.9850052e-03  4.2921691e-03  1.3931717e-03  8.4922640e-03\n",
      " -8.0199149e-03  4.2265714e-03 -7.8323539e-03 -9.8017603e-03\n",
      " -8.2259270e-04 -7.6229712e-03 -9.4469503e-04 -6.5323366e-03\n",
      " -3.6708065e-03 -3.0943428e-03  5.3616650e-03 -2.3662109e-05\n",
      "  3.6458909e-03 -5.3184694e-03  4.2404146e-03  1.0042579e-02\n",
      "  5.2371481e-03 -9.4974153e-03 -8.0696549e-03 -1.5077193e-03\n",
      "  9.7858896e-03 -2.1861047e-03  6.5044356e-03  5.0952681e-03\n",
      "  1.0121750e-03 -1.0144808e-03 -2.4439618e-03 -8.0500739e-03\n",
      "  8.7374058e-03 -3.1807481e-03 -3.4151257e-03  3.5743972e-03\n",
      "  2.1323068e-03  7.2557558e-03 -6.1991960e-03  7.9208398e-03\n",
      " -8.2101058e-03 -4.7035711e-03 -7.2970870e-03  7.8268610e-03\n",
      "  2.0979422e-03  8.4781805e-03  7.5543192e-03 -8.5375673e-04\n",
      " -8.8499179e-03 -1.4128673e-03 -6.5934137e-03 -2.2714592e-03\n",
      "  2.3427750e-04  3.4364751e-03 -7.3287860e-03  9.6001904e-03\n",
      "  8.8380994e-03  4.1897218e-03  9.5638279e-03  2.9917507e-04\n",
      "  6.9591487e-03 -4.1351574e-03 -1.1729680e-03  8.8872723e-03\n",
      " -3.2486259e-03  2.2239869e-03  6.5045580e-03  7.1363240e-03\n",
      " -9.5791239e-03  1.0241633e-03 -5.1139728e-03 -4.5096753e-03\n",
      " -2.7590250e-03  6.0214042e-03 -4.9296753e-03  9.5153563e-03\n",
      " -4.4197123e-03 -2.7079799e-03  3.6639443e-03  5.7544746e-03\n",
      " -9.0117874e-03 -2.4865605e-03  5.5538560e-03  5.9972829e-03]\n"
     ]
    }
   ],
   "source": [
    "\n",
    "# Get word vector for a specific word\n",
    "word = \"natural\"\n",
    "vector_word2Vec = model_word2Vec.wv[word]\n",
    "print(f\"Word vector for '{word}' using Word2Vec: {vector_word2Vec}\")\n"
   ]
  },
  {
   "cell_type": "markdown",
   "metadata": {},
   "source": [
    "\n",
    "#### 📊 Understanding Word Vectors in Word2Vec\n",
    "\n",
    "#### 🔢 Code Recap\n",
    "\n",
    "```python\n",
    "# Get word vector for a specific word\n",
    "word = \"natural\"\n",
    "vector_word2Vec = model_word2Vec.wv[word]\n",
    "print(f\"Word vector for '{word}' using Word2Vec: {vector_word2Vec}\")\n",
    "```\n",
    "\n",
    "This code retrieves the **vector representation (embedding)** of the word `\"natural\"` from the trained Word2Vec model.\n",
    "\n",
    "#### 🧠 What Is a Word Vector?\n",
    "\n",
    "In **Word2Vec**, every word in your vocabulary is represented by a **dense vector** of real numbers.\n",
    "\n",
    "* Each word becomes a **point** in a high-dimensional space.\n",
    "* Words that appear in similar contexts are placed **closer together**.\n",
    "* These vectors are learned by a shallow neural network during training.\n",
    "\n",
    "The output you see is a **vector with 100 dimensions**, because we set `vector_size=100` when training the model.\n",
    "\n",
    "#### ✍️ What Do These Numbers Mean?\n",
    "\n",
    "The output:\n",
    "\n",
    "```python\n",
    "[ 9.7677782e-03, 8.1660571e-03, ..., -2.3143364e-03 ]\n",
    "```\n",
    "\n",
    "...is a list of 100 floating-point numbers, like:\n",
    "\n",
    "$$\n",
    "\\vec{v}_{\\text{natural}} = [v_1, v_2, v_3, \\ldots, v_{100}]\n",
    "$$\n",
    "\n",
    "This vector encodes the **semantic meaning** of the word *natural* based on its context in the training data.\n",
    "\n",
    "While **each individual number doesn't mean anything by itself**, together they represent a **position** in a 100-dimensional space.\n",
    "\n",
    "#### 🔍 Why Is This Useful?\n",
    "\n",
    "You can perform various mathematical operations with these vectors:\n",
    "\n",
    "#### **Similarity** between words\n",
    "\n",
    "We can compute **cosine similarity** to check how similar two words are:\n",
    "\n",
    "$$\n",
    "\\text{cosine\\_similarity}(\\vec{v}_a, \\vec{v}_b) = \\frac{\\vec{v}_a \\cdot \\vec{v}_b}{\\|\\vec{v}_a\\| \\|\\vec{v}_b\\|}\n",
    "$$\n",
    "\n",
    "If two word vectors point in a similar direction (small angle), they are semantically similar.\n",
    "\n",
    "#### 🧮 Summary\n",
    "\n",
    "* The output is a **100-dimensional vector** for the word `\"natural\"`.\n",
    "* Each dimension is a learned number that helps position the word in a semantic space.\n",
    "* These vectors are powerful tools for **clustering**, **search**, **recommendations**, and more.\n"
   ]
  },
  {
   "cell_type": "code",
   "execution_count": 26,
   "metadata": {},
   "outputs": [
    {
     "name": "stdout",
     "output_type": "stream",
     "text": [
      "Similar words to 'natural' using Word2Vec: [('act', 0.3354310393333435), ('people', 0.2780853807926178), ('list', 0.2668672204017639), ('r', 0.24674904346466064), ('fire', 0.23556874692440033), ('receive', 0.23384404182434082), ('site', 0.22693923115730286), ('class', 0.21940377354621887), ('sea', 0.21812349557876587), ('prediction', 0.21565358340740204)]\n"
     ]
    }
   ],
   "source": [
    "\n",
    "# Find similar words\n",
    "similar_words_word2Vec = model_word2Vec.wv.most_similar(word)\n",
    "print(f\"Similar words to '{word}' using Word2Vec: {similar_words_word2Vec}\")"
   ]
  },
  {
   "cell_type": "markdown",
   "metadata": {},
   "source": [
    "#### 🔍 Finding Similar Words with Word2Vec\n",
    "\n",
    "#### 🔢 Code Recap\n",
    "\n",
    "```python\n",
    "# Find similar words\n",
    "similar_words_word2Vec = model_word2Vec.wv.most_similar(word)\n",
    "print(f\"Similar words to '{word}' using Word2Vec: {similar_words_word2Vec}\")\n",
    "```\n",
    "\n",
    "This code retrieves the **top 10 words** that are most similar to the word `\"natural\"` according to the Word2Vec model.\n",
    "\n",
    "#### 🧠 What Does “Similar” Mean in Word2Vec?\n",
    "\n",
    "Word2Vec considers words to be similar if their **vector representations** are **close together** in high-dimensional space.\n",
    "\n",
    "This closeness is measured using **cosine similarity**:\n",
    "\n",
    "$$\n",
    "\\text{cosine\\_similarity}(\\vec{v}_a, \\vec{v}_b) = \\frac{\\vec{v}_a \\cdot \\vec{v}_b}{\\|\\vec{v}_a\\| \\|\\vec{v}_b\\|}\n",
    "$$\n",
    "\n",
    "Where:\n",
    "\n",
    "* $\\vec{v}_a$ and $\\vec{v}_b$ are the word vectors.\n",
    "* $\\cdot$ is the dot product.\n",
    "* $\\|\\vec{v}\\|$ is the magnitude (length) of vector $\\vec{v}$.\n",
    "\n",
    "This produces a value between **-1 and 1**:\n",
    "\n",
    "* **1** → perfectly similar (same direction)\n",
    "* **0** → no similarity (orthogonal)\n",
    "* **-1** → completely opposite\n",
    "\n",
    "#### 📤 Example Output Explained\n",
    "\n",
    "```python\n",
    "[('the', 0.182), ('computers', 0.173), ('nlp', 0.167), ('between', 0.156), ...]\n",
    "```\n",
    "\n",
    "This means:\n",
    "\n",
    "| Word       | Cosine Similarity |\n",
    "| ---------- | ----------------: |\n",
    "| the        |             0.182 |\n",
    "| computers  |             0.173 |\n",
    "| nlp        |             0.167 |\n",
    "| between    |             0.156 |\n",
    "| way        |             0.133 |\n",
    "| techniques |             0.122 |\n",
    "| human      |             0.112 |\n",
    "| is         |             0.111 |\n",
    "| .          |             0.109 |\n",
    "| in         |             0.097 |\n",
    "\n",
    "These words appeared in **similar contexts** to `\"natural\"` in the training data.\n",
    "\n",
    "💡 Example: If the training sentences included phrases like *\"natural language processing\"*, and also had *\"nlp techniques\"*, *\"human language\"*, or *\"way computers process language\"*, then `\"nlp\"`, `\"human\"`, `\"techniques\"`, and `\"computers\"` would naturally be nearby in vector space.\n",
    "\n",
    "#### 🎯 Summary\n",
    "\n",
    "* Word2Vec learned that these words tend to appear **in similar contexts** to `\"natural\"`.\n",
    "* The similarity is calculated using **cosine similarity** on the word vectors.\n",
    "* The output is a **ranked list** of the most contextually similar words.\n",
    "\n",
    "You can use this method for:\n",
    "\n",
    "* **Synonym detection**\n",
    "* **Query expansion in search engines**\n",
    "* **Exploring semantic relationships in text**\n"
   ]
  },
  {
   "cell_type": "markdown",
   "metadata": {},
   "source": [
    "SKIPGRAM"
   ]
  },
  {
   "cell_type": "code",
   "execution_count": 27,
   "metadata": {},
   "outputs": [
    {
     "name": "stdout",
     "output_type": "stream",
     "text": [
      "Word vector for 'natural' using Word2Vec: [ 8.7082842e-03  1.7755146e-03 -4.6348916e-03  6.5599727e-03\n",
      "  5.6444942e-03  5.0105508e-03 -2.7312606e-04  6.4833830e-03\n",
      " -9.4066962e-04  2.9214562e-03  4.3337266e-03 -3.7483610e-03\n",
      " -5.3374018e-03 -9.9668456e-03  2.4176307e-03  7.2421608e-03\n",
      "  8.2010692e-03  3.7001187e-03  1.0596707e-03  7.5370288e-03\n",
      " -7.9315165e-03  4.5400974e-03 -7.6508992e-03 -9.7950278e-03\n",
      " -1.1503731e-03 -7.6019932e-03 -1.1309383e-03 -7.3093167e-03\n",
      " -4.1056070e-03 -2.8169467e-03  5.8785067e-03 -5.3821721e-05\n",
      "  3.9895684e-03 -5.6087938e-03  3.8825977e-03  1.0963921e-02\n",
      "  5.0567808e-03 -1.0026055e-02 -8.4523065e-03 -2.8571649e-03\n",
      "  1.0209752e-02 -2.6833499e-03  6.4922743e-03  4.7351327e-03\n",
      "  1.6957803e-03 -1.2224368e-03 -2.4357368e-03 -8.3947126e-03\n",
      "  8.9911530e-03 -3.1165122e-03 -2.9638212e-03  3.0775752e-03\n",
      "  2.0849605e-03  7.3777065e-03 -6.5401667e-03  8.2778679e-03\n",
      " -8.0402652e-03 -4.6051149e-03 -7.8497641e-03  8.1806574e-03\n",
      "  2.2549282e-03  8.5326768e-03  7.8046764e-03 -1.4113381e-03\n",
      " -9.6934438e-03 -1.3495894e-03 -6.0910578e-03 -1.6711877e-03\n",
      " -6.5586501e-04  4.3613124e-03 -7.6320646e-03  9.5846197e-03\n",
      "  9.5250206e-03  4.4953297e-03  9.8914597e-03  6.6040910e-04\n",
      "  6.8984190e-03 -4.6677548e-03 -1.9121984e-03  9.1976272e-03\n",
      " -3.4158975e-03  1.7840422e-03  5.8217058e-03  7.8646261e-03\n",
      " -9.8534413e-03  1.1078662e-03 -5.2457177e-03 -3.9295130e-03\n",
      " -2.0696719e-03  6.1499146e-03 -4.2546047e-03  9.8982025e-03\n",
      " -4.8293704e-03 -2.3429263e-03  4.6541146e-03  6.2016277e-03\n",
      " -8.8490229e-03 -3.0124469e-03  6.0208593e-03  5.7461560e-03]\n",
      "Similar words to 'natural' using Word2Vec: [('act', 0.35471946001052856), ('people', 0.3178861141204834), ('list', 0.3019316792488098), ('prediction', 0.26579782366752625), ('r', 0.2625595033168793), ('site', 0.2625119686126709), ('fire', 0.2599733769893646), ('receive', 0.2525102198123932), ('class', 0.23461277782917023), ('let', 0.22721901535987854)]\n"
     ]
    }
   ],
   "source": [
    "# Create a model\n",
    "model_skipGram = Word2Vec(sentences=[tokenized_words], vector_size=100, window=5,  min_count=1, workers=4, sg=1)\n",
    "\n",
    "# Get word vector for a specific word\n",
    "vector_skipGram = model_skipGram.wv[word]\n",
    "print(f\"Word vector for '{word}' using Word2Vec: {vector_skipGram}\")\n",
    "\n",
    "# Find similar words\n",
    "similar_words_skipGrams = model_skipGram.wv.most_similar(word)\n",
    "print(f\"Similar words to '{word}' using Word2Vec: {similar_words_skipGrams}\")"
   ]
  },
  {
   "cell_type": "markdown",
   "metadata": {},
   "source": [
    "#### 🧠 Understanding Skip-grams in Word2Vec\n",
    "\n",
    "### 🔁 What Are Skip-grams?\n",
    "\n",
    "A **Skip-gram** is a training approach used in Word2Vec that **predicts context words given a center word**.\n",
    "\n",
    "> 🔑 Goal: For a given target word, predict the words that are likely to appear nearby in a sentence.\n",
    "\n",
    "#### 📚 How Does Skip-gram Work?\n",
    "\n",
    "Let’s take a sentence:\n",
    "\n",
    "```\n",
    "\"The field of natural language processing is growing.\"\n",
    "```\n",
    "\n",
    "If the center word is `\"natural\"` and the window size is 2, the context window is:\n",
    "\n",
    "```python\n",
    "[\"of\", \"natural\", \"language\", \"processing\"]\n",
    "```\n",
    "\n",
    "The skip-gram model will create training pairs like:\n",
    "\n",
    "```python\n",
    "(\"natural\", \"of\"), (\"natural\", \"language\")\n",
    "```\n",
    "<br/>\n",
    "\n",
    "🧠 The model **learns embeddings** by trying to **maximize the probability** of seeing context words given the center word.\n",
    "\n",
    "#### 📐 The Skip-gram Objective Function\n",
    "\n",
    "The skip-gram model aims to maximize the following log-likelihood objective over a large corpus:\n",
    "\n",
    "$$\n",
    "\\frac{1}{T} \\sum_{t=1}^{T} \\sum_{-c \\leq j \\leq c, j \\neq 0} \\log P(w_{t+j} \\mid w_t)\n",
    "$$\n",
    "\n",
    "Where:\n",
    "\n",
    "* $T$ is the total number of words in the corpus\n",
    "* $w_t$ is the center word\n",
    "* $w_{t+j}$ are the surrounding context words\n",
    "* $c$ is the window size\n",
    "\n",
    "The probability $P(w_{t+j} \\mid w_t)$ is computed using softmax:\n",
    "\n",
    "$$\n",
    "P(w_O \\mid w_I) = \\frac{\\exp\\left({\\vec{v}_{w_O}^\\top \\vec{v}_{w_I}}\\right)}{\\sum_{w = 1}^{V} \\exp\\left({\\vec{v}_w^\\top \\vec{v}_{w_I}}\\right)}\n",
    "$$\n",
    "\n",
    "Where:\n",
    "\n",
    "* $\\vec{v}_{w_I}$: vector of the input word (center)\n",
    "* $\\vec{v}_{w_O}$: vector of the output/context word\n",
    "* $V$: vocabulary size\n",
    "\n",
    "### 🧪 Code Recap\n",
    "\n",
    "```python\n",
    "model_skipGram = Word2Vec(sentences=[tokenized_words], vector_size=100, window=5, min_count=1, workers=4, sg=1)\n",
    "```\n",
    "\n",
    "* `sg=1` activates the **Skip-gram** architecture (`sg=0` would activate CBOW instead).\n",
    "* This model now learns word embeddings by training on `(center → context)` word pairs.\n",
    "\n",
    "#### 📤 Output Explanation\n",
    "\n",
    "#### ✅ Word Vector\n",
    "\n",
    "```python\n",
    "vector_skipGram = model_skipGram.wv[word]\n",
    "```\n",
    "\n",
    "Returns a **100-dimensional vector** for the word `\"natural\"` that reflects its learned representation based on surrounding context words.\n",
    "\n",
    "#### ✅ Most Similar Words\n",
    "\n",
    "```python\n",
    "model_skipGram.wv.most_similar(\"natural\")\n",
    "```\n",
    "\n",
    "Returns a list of the **top 10 most similar words** to `\"natural\"`, ranked by **cosine similarity** between their vectors.\n",
    "\n",
    "Example output:\n",
    "\n",
    "```python\n",
    "[('the', 0.182), ('computers', 0.173), ('nlp', 0.168), ...]\n",
    "```\n",
    "\n",
    "These are the words that appeared in **similar contexts** to `\"natural\"` across the training data.\n",
    "<br/>\n",
    "\n",
    "🧠 This similarity emerges from the way skip-gram **updates** the vector for `\"natural\"` and its surrounding words whenever they co-occur — over time, semantically related words move closer together in vector space.\n",
    "\n",
    "#### 🧭 Summary\n",
    "\n",
    "| Component           | Role                                                     |\n",
    "| ------------------- | -------------------------------------------------------- |\n",
    "| Skip-gram Objective | Predicts context words based on a center word            |\n",
    "| sg=1                | Enables skip-gram architecture in `Word2Vec()`           |\n",
    "| Output Vector       | A 100D numeric representation of the word \"natural\"      |\n",
    "| Similar Words       | Top 10 words that share similar context to \"natural\"     |\n",
    "| Math Mechanism      | Uses dot products and softmax to update vector positions |\n"
   ]
  },
  {
   "cell_type": "code",
   "execution_count": 28,
   "metadata": {},
   "outputs": [],
   "source": [
    "model_skipGram.save('saveModelSkipGram.bin')\n",
    "# Word2Vec.load('path')"
   ]
  },
  {
   "cell_type": "markdown",
   "metadata": {},
   "source": [
    "#### 💾 Saving and Loading a Word2Vec Skip-gram Model\n",
    "\n",
    "#### ✅ What This Code Does\n",
    "\n",
    "#### 📌 `model_skipGram.save('saveModelSkipGram.bin')`\n",
    "\n",
    "* This **saves** the trained Word2Vec Skip-gram model to a file named `'saveModelSkipGram.bin'`.\n",
    "* You can later load this file to **reuse the model** without retraining it.\n",
    "* Useful for large models that take time to train.\n",
    "\n",
    "#### 📌 `Word2Vec.load('path')`\n",
    "\n",
    "* This **loads** a previously saved Word2Vec model from disk.\n",
    "* You can then use the loaded model to get vectors or find similar words.\n",
    "\n",
    "#### 🧠 Example\n",
    "\n",
    "```python\n",
    "# Save the model\n",
    "model_skipGram.save('saveModelSkipGram.bin')\n",
    "\n",
    "# Later or in another notebook\n",
    "from gensim.models import Word2Vec\n",
    "loaded_model = Word2Vec.load('saveModelSkipGram.bin')\n",
    "\n",
    "# Use the loaded model\n",
    "loaded_model.wv['natural']\n",
    "```\n",
    "\n",
    "#### 🗂️ Summary\n",
    "\n",
    "| Action    | What It Does                      |\n",
    "| --------- | --------------------------------- |\n",
    "| `.save()` | Saves the trained model to a file |\n",
    "| `.load()` | Loads the model back into memory  |"
   ]
  },
  {
   "cell_type": "markdown",
   "metadata": {},
   "source": [
    "How to use word2Vec for SkipGrams and CBOW? Explore whether they will give different results for similar words"
   ]
  },
  {
   "cell_type": "markdown",
   "metadata": {},
   "source": [
    "### 🧠 Clustering Words based on Cooccurence Pattern - **Brown Clustering**\n",
    "\n",
    "> Brown Clustering is a method to cluster words based on their co-occurrence patterns.\n",
    "\n",
    "> It starts with each word as a separate cluster and iteratively merges the most similar clusters based on their co-occurrence patterns.\n",
    "\n",
    "> Brown Clustering is used for tasks like named entity recognition, word sense disambiguation, and topic modeling."
   ]
  },
  {
   "cell_type": "code",
   "execution_count": 29,
   "metadata": {},
   "outputs": [
    {
     "name": "stdout",
     "output_type": "stream",
     "text": [
      "Downloading 'brown' tokenizer...\n"
     ]
    },
    {
     "name": "stderr",
     "output_type": "stream",
     "text": [
      "[nltk_data] Downloading package brown to c:\\Users\\mathe\\Downloads\\Embe\n",
      "[nltk_data]     ddingClusteringVectorizationWorkshop\\nltk_data...\n",
      "[nltk_data]   Unzipping corpora\\brown.zip.\n"
     ]
    },
    {
     "data": {
      "text/plain": [
       "True"
      ]
     },
     "execution_count": 29,
     "metadata": {},
     "output_type": "execute_result"
    }
   ],
   "source": [
    "from nltk.corpus import brown\n",
    "import numpy as np\n",
    "\n",
    "# download brown corpus if not downloaded before\n",
    "# Warning: This will download the brown corpus to your home directory.\n",
    "# For example, on Linux, it will copy files to ~/.nltk_data.\n",
    "# In Windows, it will copy files to C:\\Users\\YourAccount\\AppData\\Roaming\n",
    "# nltk.download('brown')\n",
    "\n",
    "nltk_data_path = os.path.join(os.getcwd(), 'nltk_data')\n",
    "print(\"Downloading 'brown' tokenizer...\")\n",
    "nltk.download('brown', download_dir=nltk_data_path, force=True)\n"
   ]
  },
  {
   "cell_type": "markdown",
   "metadata": {},
   "source": [
    "#### 🤝 Co-occurrence and Brown Clustering: An Introductory Example\n",
    "\n",
    "### 📌 Code Recap\n",
    "\n",
    "This code performs a **simple version of Brown clustering** based on a **co-occurrence matrix** built from the [**Brown Corpus**](https://en.wikipedia.org/wiki/Brown_Corpus).\n",
    "\n",
    "---\n",
    "\n",
    "### 🔤 What Is Co-occurrence?\n",
    "\n",
    "> **Co-occurrence** means that two words appear **near each other** in a sentence — within a defined **window size**.\n",
    "\n",
    "For example, in the sentence:\n",
    "\n",
    "```\n",
    "\"The field of natural language processing is growing.\"\n",
    "```\n",
    "\n",
    "If the window size is 2, the word `\"natural\"` co-occurs with:\n",
    "\n",
    "* `\"of\"`, `\"language\"`, `\"field\"`, and `\"processing\"`\n",
    "\n",
    "---\n",
    "\n",
    "#### 🧮 What the Code Does Step by Step\n",
    "\n",
    "#### 1. 📥 Download and Load the Brown Corpus\n",
    "\n",
    "```python\n",
    "nltk.download('brown')\n",
    "corpus = brown.sents()[:1]  # use just one sentence for this example\n",
    "```\n",
    "\n",
    "* Retrieves one sentence from the **Brown Corpus**.\n",
    "* Converts all words to **lowercase**.\n",
    "\n",
    "#### 2. 🧾 Build a Vocabulary\n",
    "\n",
    "```python\n",
    "vocab = set(word for sent in corpus for word in sent)\n",
    "```\n",
    "\n",
    "* Creates a set of **unique words** in the sentence."
   ]
  },
  {
   "cell_type": "code",
   "execution_count": 30,
   "metadata": {},
   "outputs": [],
   "source": [
    "# retrieve sentences from brown corpus\n",
    "corpus = brown.sents()[:1]\n",
    "# transform all sentences to lower case\n",
    "corpus = [[word.lower() for word in sent] for sent in corpus]\n",
    "\n",
    "# Create a set of unique words in the corpus --> Vocab\n",
    "vocab = set(word for sent in corpus for word in sent)"
   ]
  },
  {
   "cell_type": "markdown",
   "metadata": {},
   "source": [
    "#### 3. 🧱 Create a Co-occurrence Matrix\n",
    "\n",
    "```python\n",
    "window_size = 2\n",
    "co_occurrence_matrix = np.zeros((len(vocab), len(vocab)))\n",
    "```\n",
    "\n",
    "* Builds a **square matrix** of size *(vocab\\_size × vocab\\_size)*.\n",
    "* Each cell $(i, j)$ in the matrix counts how often **word i** appears within the **window** of **word j**."
   ]
  },
  {
   "cell_type": "code",
   "execution_count": 31,
   "metadata": {},
   "outputs": [],
   "source": [
    "# to find co-occurence pattern, co-occurence matrix is needed to show the word count and which words does it co-occur with\n",
    "window_size = 2  # window_size (bigram)\n",
    "co_occurrence_matrix = np.zeros((len(vocab), len(vocab)))\n",
    "\n",
    "for sentence in corpus:\n",
    "    for i, word in enumerate(sentence):\n",
    "        for j in range(max(0, i - window_size), min(len(sentence), i + window_size + 1)):\n",
    "            if i != j:\n",
    "                word_index = list(vocab).index(word)\n",
    "                context_word = sentence[j]\n",
    "                context_word_index = list(vocab).index(context_word)\n",
    "                co_occurrence_matrix[word_index, context_word_index] += 1"
   ]
  },
  {
   "cell_type": "markdown",
   "metadata": {},
   "source": [
    "#### 4. 🧠 Simulate Brown Clustering\n",
    "\n",
    "```python\n",
    "num_clusters = 2\n",
    "...\n",
    "```\n",
    "\n",
    "* Assigns each word to its own cluster initially.\n",
    "* Iteratively **merges the two most strongly co-occurring clusters**.\n",
    "* This continues until only the desired number of clusters remains.\n",
    "\n",
    "#### 5. 📦 Final Output\n",
    "\n",
    "```python\n",
    "final_clusters[word] = cluster_id\n",
    "```\n",
    "\n",
    "* Produces a dictionary of `{word: cluster_id}` showing the grouping of words.\n",
    "\n",
    "#### 📊 What Is a Co-occurrence Matrix?\n",
    "\n",
    "It’s a matrix where:\n",
    "\n",
    "* **Rows and columns = words in vocabulary**\n",
    "* Each cell $M_{i,j}$ contains the **count of times word $i$** appeared near **word $j$**\n",
    "\n",
    "$$\n",
    "M_{i,j} = \\text{Number of times } w_i \\text{ appears in the context window of } w_j\n",
    "$$"
   ]
  },
  {
   "cell_type": "code",
   "execution_count": 32,
   "metadata": {},
   "outputs": [],
   "source": [
    "# Performing brown clustering, you need to set the number of clusters\n",
    "num_clusters = 2\n",
    "# assign each word as cluster\n",
    "cluster_assignments = np.arange(len(vocab))\n",
    "# Perform Brown clustering by recursively merging clusters\n",
    "for k in range(len(vocab) - num_clusters):\n",
    "    # Find the pair of clusters with the highest co-occurrence count\n",
    "    i, j = np.unravel_index(co_occurrence_matrix.argmax(), co_occurrence_matrix.shape)\n",
    "    # Merge the clusters by assigning the same cluster ID to both clusters\n",
    "    cluster_assignments[cluster_assignments == j] = i\n",
    "    # Update the co-occurrence matrix by merging the counts of the two clusters\n",
    "    co_occurrence_matrix[i, :] += co_occurrence_matrix[j, :]\n",
    "    co_occurrence_matrix[:, i] += co_occurrence_matrix[:, j]\n",
    "    co_occurrence_matrix[i, i] = 0  # Set diagonal element to 0\n",
    "    co_occurrence_matrix[j, :] = 0\n",
    "    co_occurrence_matrix[:, j] = 0\n",
    "\n",
    "# Final cluster assignments\n",
    "final_clusters = {}\n",
    "for word, cluster_id in zip(vocab, cluster_assignments):\n",
    "    final_clusters[word] = cluster_id"
   ]
  },
  {
   "cell_type": "markdown",
   "metadata": {},
   "source": [
    "#### 🧭 Summary\n",
    "\n",
    "| Step                      | What It Does                                  |\n",
    "| ------------------------- | --------------------------------------------- |\n",
    "| Corpus                    | Loads a sentence from the Brown Corpus        |\n",
    "| Vocabulary                | Extracts all unique words                     |\n",
    "| Co-occurrence Matrix      | Counts how often words appear near each other |\n",
    "| Brown Clustering (simple) | Merges similar words into clusters            |\n",
    "| Final Output              | A dictionary of word-to-cluster mappings      |"
   ]
  },
  {
   "cell_type": "code",
   "execution_count": 33,
   "metadata": {},
   "outputs": [
    {
     "data": {
      "text/plain": [
       "2"
      ]
     },
     "execution_count": 33,
     "metadata": {},
     "output_type": "execute_result"
    }
   ],
   "source": [
    "len(set(final_clusters.values()))"
   ]
  },
  {
   "cell_type": "markdown",
   "metadata": {},
   "source": [
    "**NOTE: DONT RUN FOR LARGE DATASET**<br>\n",
    "Visualizing brown clusters: <br>\n",
    "Install scipy if you didn't use it before. pip install scipy\n"
   ]
  },
  {
   "cell_type": "code",
   "execution_count": 34,
   "metadata": {},
   "outputs": [
    {
     "name": "stderr",
     "output_type": "stream",
     "text": [
      "C:\\Users\\mathe\\AppData\\Local\\Temp\\ipykernel_14824\\3430164255.py:6: ClusterWarning: The symmetric non-negative hollow observation matrix looks suspiciously like an uncondensed distance matrix\n",
      "  linkage_matrix = linkage(co_occurrence_matrix, method='ward')\n"
     ]
    },
    {
     "data": {
      "image/png": "[encoded data removed]",
      "text/plain": [
       "<Figure size 1500x1000 with 1 Axes>"
      ]
     },
     "metadata": {},
     "output_type": "display_data"
    }
   ],
   "source": [
    "# This code should be able to visualize brown clustering, however you need to experiment it with less words as it does many\n",
    "# computations for the linkage matrix.\n",
    "import matplotlib.pyplot as plt\n",
    "from scipy.cluster.hierarchy import dendrogram, linkage\n",
    "# Create a linkage matrix for hierarchical clustering\n",
    "linkage_matrix = linkage(co_occurrence_matrix, method='ward')\n",
    "\n",
    "# Plot the dendrogram\n",
    "plt.figure(figsize=(15, 10))\n",
    "dendrogram(linkage_matrix, labels=list(vocab), orientation='right', leaf_font_size=8)\n",
    "plt.xlabel('Word Clusters')\n",
    "plt.ylabel('Words')\n",
    "plt.title('Brown Clustering Dendrogram')\n",
    "plt.show()"
   ]
  },
  {
   "cell_type": "markdown",
   "metadata": {},
   "source": [
    "#### 🌳 Visualizing Brown Clustering with a Dendrogram\n",
    "\n",
    "#### 📌 Code Recap\n",
    "\n",
    "```python\n",
    "from scipy.cluster.hierarchy import dendrogram, linkage\n",
    "linkage_matrix = linkage(co_occurrence_matrix, method='ward')\n",
    "...\n",
    "dendrogram(linkage_matrix, labels=list(vocab), orientation='right')\n",
    "```\n",
    "\n",
    "This code performs **hierarchical clustering** on the **co-occurrence matrix** and displays it as a **dendrogram**.\n",
    "\n",
    "<br/>\n",
    "\n",
    "##### 🌱 What Is a Dendrogram?\n",
    "\n",
    "A **dendrogram** is a **tree-like diagram** that shows how words are grouped into clusters based on their co-occurrence patterns.\n",
    "\n",
    "* Each **leaf node** (at the left) is a word from the vocabulary.\n",
    "* Words that **frequently co-occur** are joined into **branches**.\n",
    "* The **horizontal axis** shows the **distance** (or dissimilarity) between merged clusters.\n",
    "\n",
    "  * **Shorter horizontal lines** → more similar words\n",
    "  * **Longer lines** → more dissimilar\n",
    "\n",
    "<br/>\n",
    "\n",
    "### 🧠 What This Means\n",
    "\n",
    "* The dendrogram shows how the words are **grouped step-by-step**.\n",
    "* It begins by clustering the **most similar pairs of words** (based on co-occurrence).\n",
    "* Then it merges those groups into larger clusters.\n",
    "\n",
    "For example:\n",
    "\n",
    "* `\"jury\"` and `\"election\"` might co-occur often → they appear close together.\n",
    "* `\"the\"` and `\"of\"` may appear often but with many different words, making them less specific.\n",
    "\n",
    "<br/>\n",
    "\n",
    "### ⚠️ Why Fewer Words?\n",
    "\n",
    "> The message in the code mentions:\n",
    "> \"you need to experiment it with less words...\"\n",
    "\n",
    "* That’s because **hierarchical clustering** requires computing pairwise distances.\n",
    "* Large vocabularies make the **linkage matrix** large and slow to process.\n",
    "* A **small subset** (e.g., 20–30 words) gives a faster and more readable result.\n",
    "\n",
    "<br/>\n",
    "\n",
    "### 📊 Summary Table\n",
    "\n",
    "| Component           | Role                                           |\n",
    "| ------------------- | ---------------------------------------------- |\n",
    "| `linkage()`         | Computes distances for hierarchical clustering |\n",
    "| `dendrogram()`      | Draws the tree structure of word clusters      |\n",
    "| X-axis (horizontal) | Dissimilarity between word clusters            |\n",
    "| Y-axis (vertical)   | Words from the vocabulary                      |\n",
    "| Short branches      | Words with similar co-occurrence contexts      |\n",
    "\n"
   ]
  },
  {
   "cell_type": "markdown",
   "metadata": {},
   "source": [
    "---\n",
    "\n",
    "### 🧠 Introduction to GloVe (Global Vectors for Word Representation)\n",
    "\n",
    "#### **What is GloVe?**\n",
    "\n",
    "**Global Vectors for Word Representation (GloVe)** is an unsupervised learning algorithm used to learn word embeddings from large amounts of text data. Word embeddings are dense vector representations of words that capture semantic relationships between words based on their co-occurrence statistics. \n",
    "\n",
    "**GloVe** is a word embedding model that learns **vector representations of words** by using **global word co-occurrence statistics** from a corpus.\n",
    "\n",
    "\n",
    "Unlike Word2Vec (which learns embeddings through local context windows), GloVe builds a **co-occurrence matrix** and then learns word vectors from it.\n",
    "\n",
    "#### **Who developed it and when?**\n",
    "\n",
    "GloVe was developed by researchers at **Stanford University**:\n",
    "\n",
    "* **Jeffrey Pennington**, **Richard Socher**, and **Christopher Manning**\n",
    "\n",
    "It was first introduced in **2014**.\n",
    "\n",
    "#### **Who currently maintains and supports new releases?**\n",
    "\n",
    "The official code and pretrained models are available at:\n",
    "\n",
    "* [https://nlp.stanford.edu/projects/glove](https://nlp.stanford.edu/projects/glove)\n",
    "\n",
    "GloVe is not actively developed anymore, but the pretrained models are widely used.\n",
    "Unofficial implementations exist in:\n",
    "\n",
    "* `Gensim`\n",
    "* `glove-python` (Python wrapper around original C code)\n",
    "\n",
    "#### **How do I use GloVe in Python and Jupyter Notebooks?**\n",
    "\n",
    "There are two common ways:\n",
    "\n",
    "#### 📦 Option 1: Create a model\n",
    "\n",
    "#### **What is a model in GloVe?**\n",
    "\n",
    "A **GloVe model** is a file that contains:\n",
    "\n",
    "* A large vocabulary of words\n",
    "* For each word: a **fixed-length vector** (e.g., 50D, 100D, 300D)\n",
    "\n",
    "These vectors are learned by factorizing a word-word **co-occurrence matrix** so that **similar words** have **similar vectors**.\n",
    "\n",
    "### **How to Create a GloVe Model Using Python**\n",
    "\n",
    "> GloVe training is more complex than Word2Vec and originally written in C. But here’s a basic pipeline using `glove-python-binary`:\n",
    "\n",
    "#### ✅ Step 1: Install the Library\n",
    "\n",
    "```bash\n",
    "!pip install glove-python-binary\n",
    "```\n",
    "\n",
    "#### ✅ Step 2: Create and Train a GloVe Model\n",
    "\n",
    "```python\n",
    "\n",
    "```\n",
    "\n",
    "#### 📦 Option 2: Load Pretrained GloVe using Gensim"
   ]
  },
  {
   "cell_type": "code",
   "execution_count": 35,
   "metadata": {},
   "outputs": [
    {
     "name": "stderr",
     "output_type": "stream",
     "text": [
      "C:\\Users\\mathe\\AppData\\Local\\Temp\\ipykernel_14824\\3967532952.py:10: DeprecationWarning: Call to deprecated `glove2word2vec` (KeyedVectors.load_word2vec_format(.., binary=False, no_header=True) loads GLoVE text vectors.).\n",
      "  glove2word2vec(glove_input_file, word2vec_output_file)\n"
     ]
    },
    {
     "name": "stdout",
     "output_type": "stream",
     "text": [
      "[-1.2879   -0.14538  -0.016613  1.1387    1.1317    0.20705  -0.47351\n",
      "  0.15898   0.67879   0.2382    0.11621   0.26053  -0.8379    1.1232\n",
      "  0.31469  -0.47904  -0.33717  -0.34492  -0.72053  -1.0543   -0.58476\n",
      " -0.42184  -0.56977  -1.1697   -0.50389  -1.4706   -0.22005   1.1314\n",
      "  1.0829   -1.5477    0.77931  -0.22865   0.33369   0.52067   0.22109\n",
      "  1.1267    0.11704   1.1647    0.5875   -0.079243  0.022386  0.90118\n",
      " -0.37459   0.82637  -0.41061  -0.95039   0.44121  -0.58558   0.12594\n",
      " -0.71778 ]\n",
      "[('ball', 0.7129055857658386), ('gloves', 0.7020115852355957), ('throws', 0.6995697617530823), ('hat', 0.6933199167251587), ('plate', 0.6828181743621826), ('basket', 0.6727595925331116), ('tying', 0.6715709567070007), ('helmet', 0.6700937747955322), ('backboard', 0.6681182980537415), ('infield', 0.6643968820571899)]\n"
     ]
    }
   ],
   "source": [
    "from gensim.scripts.glove2word2vec import glove2word2vec\n",
    "from gensim.models import KeyedVectors\n",
    "\n",
    "# Step 1: Download and provide the pretrained glove.6B.50d.txt file somewhere accessible\n",
    "\n",
    "glove_input_file = './glove.6B/glove.6B.50d.txt'  # path to glove file\n",
    "word2vec_output_file = './glove.6B/glove.6B.50d.word2vec.txt'\n",
    "\n",
    "# Step 2: Convert glove format to word2vec format (only needs to be done once)\n",
    "glove2word2vec(glove_input_file, word2vec_output_file)\n",
    "\n",
    "# Step 3: Load vectors\n",
    "model = KeyedVectors.load_word2vec_format(word2vec_output_file, binary=False)\n",
    "\n",
    "\n",
    "# Step 4: Use the vectors\n",
    "print(model['glove'])  # embedding vector for 'glove'\n",
    "print(model.most_similar('glove'))\n"
   ]
  },
  {
   "cell_type": "markdown",
   "metadata": {},
   "source": [
    "- Steps: Preprocess the text data.<br>\n",
    "Created the dictionary.<br>\n",
    "Traverse the glove file of a specific dimension and compare each word with all words in the dictionary,\n",
    "if a match occurs, copy the equivalent vector from the glove and paste into embedding_matrix at the corresponding index.<br>\n"
   ]
  },
  {
   "cell_type": "code",
   "execution_count": 36,
   "metadata": {},
   "outputs": [
    {
     "name": "stdout",
     "output_type": "stream",
     "text": [
      "Dense vector for first word is =>  [ 3.19730014e-01 -5.35109997e-01  1.68369994e-01 -5.14930010e-01\n",
      " -5.41679978e-01 -5.23229986e-02 -3.46700013e-01  4.11410004e-01\n",
      "  4.88279998e-01  1.92770004e-01 -4.34570014e-01 -5.49929999e-02\n",
      " -7.08180010e-01 -2.10759997e-01  3.05170000e-01  6.35600016e-02\n",
      "  3.52970004e-01 -1.24119997e-01 -1.21770002e-01 -4.13810015e-01\n",
      "  7.48009980e-01  2.17099994e-01  7.79249985e-03  5.02309978e-01\n",
      "  2.45900005e-01 -2.25160003e+00  5.83440006e-01  1.20770000e-01\n",
      "  1.28250003e+00 -1.01289999e+00  2.92379999e+00  7.58700013e-01\n",
      " -1.00510001e+00 -1.71330005e-01 -6.17370009e-01 -1.54649997e-02\n",
      "  3.06809992e-01 -7.09800005e-01 -3.91360015e-01  5.38070023e-01\n",
      " -1.54200003e-01  8.30769986e-02 -2.05229991e-03 -1.14189997e-01\n",
      "  6.69780016e-01 -2.23670006e-01 -1.65309995e-01 -2.11389996e-02\n",
      "  6.14579991e-02 -1.07730001e-01]\n"
     ]
    }
   ],
   "source": [
    "#Download Glove Pretrained Embeddings From: http://nlp.stanford.edu/data/glove.6B.zip  \n",
    "\n",
    "def embedding_for_vocab(filepath, word_index,\n",
    "                        embedding_dim):\n",
    "    vocab_size = len(word_index) + 1\n",
    "      \n",
    "    # Adding again 1 because of reserved 0 index\n",
    "    embedding_matrix_vocab = np.zeros((vocab_size,\n",
    "                                       embedding_dim))\n",
    "  \n",
    "    with open(filepath, encoding=\"utf8\") as f:\n",
    "        for line in f:\n",
    "            word, *vector = line.split()\n",
    "            if word in word_index:\n",
    "                idx = word_index.index(word)\n",
    "                embedding_matrix_vocab[idx] = np.array(\n",
    "                    vector, dtype=np.float32)[:embedding_dim]\n",
    "  \n",
    "    return embedding_matrix_vocab\n",
    "  \n",
    "  \n",
    "# matrix for vocab: tokenized_words\n",
    "embedding_dim = 50\n",
    "embedding_matrix_vocab = embedding_for_vocab(\n",
    "    './glove.6B/glove.6B.50d.txt', tokenized_words,\n",
    "  embedding_dim)\n",
    "  \n",
    "print(\"Dense vector for first word is => \",\n",
    "      embedding_matrix_vocab[1])"
   ]
  },
  {
   "cell_type": "markdown",
   "metadata": {},
   "source": [
    "### 🧠 Comparing Wod2Vec against GloVe\n",
    "\n",
    "| **Aspect**                    | **Word2Vec**                                                                 | **GloVe**                                                                 |\n",
    "|------------------------------|------------------------------------------------------------------------------|---------------------------------------------------------------------------|\n",
    "| **Model Type**               | Predictive (learns by predicting context words)                             | Count-based (learns from global word co-occurrence)                      |\n",
    "| **Training Approach**        | Neural network with CBOW or Skip-gram                                       | Matrix factorization of word co-occurrence matrix                        |\n",
    "| **Contextual Focus**         | Local context window                                                        | Global co-occurrence statistics                                          |\n",
    "| **Use Case Suitability**     | Better at capturing semantic similarity for specific contexts               | Stronger at preserving global statistics of the entire corpus            |\n",
    "| **Performance on Rare Words**| Performs well with Skip-gram on rare/infrequent words                      | Struggles with rare words due to lack of sufficient co-occurrence        |\n",
    "| **Corpus Dependency**        | Effective on domain-specific corpora (e.g., support docs, internal KB)     | Performs best on large general corpora                                   |\n",
    "| **Training Time**            | Faster training, lower memory usage                                        | Slower training, higher memory usage due to large co-occurrence matrix   |\n",
    "| **Embedding Quality**        | Learns contextual relationships and semantic proximity                     | Captures global structure and linear relationships (e.g., analogies)     |\n",
    "| **Pretrained Availability**  | Domain-tuned or task-specific embeddings available                         | Pretrained vectors widely available (Common Crawl, Wikipedia, etc.)      |\n",
    "| **Best For**                 | Tasks like document clustering, query expansion, or contextual similarity  | Tasks requiring semantic analogy and rich word associations              |\n",
    "| **Interpretability**         | Less interpretable (weights from neural net)                               | More interpretable due to co-occurrence logic                            |\n",
    "\n",
    "### 🔍 Use Case Note:\n",
    "- **Word2Vec** is ideal when the corpus is **domain-specific** and we want to emphasize **contextual meaning** (e.g., chatbot knowledge base, policy docs).\n",
    "- **GloVe** works better when the corpus is **large and generic**, and we want to capture **broader semantic relationships**."
   ]
  },
  {
   "cell_type": "markdown",
   "metadata": {},
   "source": [
    "### Dimensionality Reduction --> SVD (LSA)\n",
    "    Latent Semantic Analysis (LSA) is a technique used in natural language processing to uncover the latent structure in a corpus of text documents by applying Singular Value Decomposition (SVD) to a term-document matrix. It allows us to reduce the dimensionality of the document-term space, thereby capturing the underlying semantic relationships between words and documents."
   ]
  },
  {
   "cell_type": "markdown",
   "metadata": {},
   "source": [
    "Lets create a text corpus:"
   ]
  },
  {
   "cell_type": "code",
   "execution_count": 38,
   "metadata": {},
   "outputs": [],
   "source": [
    "# corpus = [\n",
    "#     \"The quick brown fox jumps over the lazy dog.\",\n",
    "#     \"The dog barked at the fox.\",\n",
    "#     \"The fox ran away quickly.\",\n",
    "#     \"The dog is lazy.\",\n",
    "#     \"The fox is cunning.\",\n",
    "# ]\n",
    "\n",
    "# Read and parse the corpus.txt into a list of documents\n",
    "with open(\"./Data/corpus.txt\", \"r\", encoding=\"utf-8\") as file:\n",
    "    raw_text = file.read()\n",
    "\n",
    "# Split into documents using the separator line\n",
    "corpus = raw_text.split(\"--------------------------------------------------------------------------------\")\n",
    "\n",
    "# Clean and strip empty or whitespace-only entries\n",
    "corpus = [doc.strip() for doc in corpus if doc.strip()]\n"
   ]
  },
  {
   "cell_type": "markdown",
   "metadata": {},
   "source": [
    "- Create Document-Term Matrix: We use the CountVectorizer from scikit-learn to convert the text documents into a document-term matrix. Each row in the matrix corresponds to a document, and each column represents a word's frequency in that document.\n",
    "\n",
    "- Apply LSA (SVD): We use the TruncatedSVD class from scikit-learn to perform Latent Semantic Analysis. We specify the number of components (dimensions) we want to reduce the feature space to (in this case, we use n_components=2 for simplicity).\n",
    "\n",
    "- Normalize Data: To ensure that each row in the transformed matrix has unit norm, we use the Normalizer from scikit-learn.\n",
    "\n"
   ]
  },
  {
   "cell_type": "code",
   "execution_count": 39,
   "metadata": {},
   "outputs": [],
   "source": [
    "from sklearn.feature_extraction.text import CountVectorizer\n",
    "from sklearn.decomposition import TruncatedSVD\n",
    "from sklearn.preprocessing import Normalizer\n",
    "from sklearn.pipeline import make_pipeline"
   ]
  },
  {
   "cell_type": "code",
   "execution_count": 40,
   "metadata": {},
   "outputs": [
    {
     "name": "stdout",
     "output_type": "stream",
     "text": [
      "  (0, 364)\t1\n",
      "  (0, 338)\t1\n",
      "  (0, 23)\t1\n",
      "  (0, 149)\t1\n",
      "  (0, 54)\t1\n",
      "  (0, 391)\t1\n",
      "  (0, 67)\t1\n",
      "  (0, 59)\t1\n",
      "  (0, 18)\t1\n",
      "  (0, 243)\t1\n",
      "  (0, 355)\t2\n",
      "  (0, 83)\t1\n",
      "  (0, 294)\t1\n",
      "  (0, 228)\t1\n",
      "  (0, 48)\t1\n",
      "  (0, 378)\t1\n",
      "  (0, 286)\t1\n",
      "  (0, 64)\t1\n",
      "  (0, 19)\t1\n",
      "  (0, 239)\t1\n",
      "  (0, 63)\t1\n",
      "  (0, 53)\t1\n",
      "  (0, 131)\t1\n",
      "  (0, 366)\t2\n",
      "  (0, 326)\t1\n",
      "  :\t:\n",
      "  (13, 290)\t1\n",
      "  (13, 369)\t1\n",
      "  (13, 156)\t1\n",
      "  (13, 190)\t1\n",
      "  (13, 126)\t1\n",
      "  (13, 399)\t1\n",
      "  (13, 351)\t1\n",
      "  (13, 45)\t1\n",
      "  (13, 12)\t1\n",
      "  (13, 166)\t1\n",
      "  (13, 4)\t1\n",
      "  (13, 308)\t1\n",
      "  (13, 320)\t1\n",
      "  (13, 75)\t1\n",
      "  (13, 282)\t1\n",
      "  (13, 299)\t1\n",
      "  (13, 271)\t1\n",
      "  (13, 345)\t1\n",
      "  (13, 260)\t1\n",
      "  (13, 265)\t1\n",
      "  (13, 185)\t1\n",
      "  (13, 237)\t1\n",
      "  (13, 304)\t1\n",
      "  (13, 37)\t1\n",
      "  (13, 121)\t1\n"
     ]
    }
   ],
   "source": [
    "vectorizer = CountVectorizer()\n",
    "X = vectorizer.fit_transform(corpus)\n",
    "print(X)"
   ]
  },
  {
   "cell_type": "code",
   "execution_count": 41,
   "metadata": {},
   "outputs": [
    {
     "data": {
      "text/plain": [
       "array([[ 4.50243144, -2.19150421],\n",
       "       [ 4.11174542, -2.29185878],\n",
       "       [ 4.36258273,  0.54296632],\n",
       "       [ 4.55549065,  0.28956464],\n",
       "       [ 4.58533163,  1.10445226],\n",
       "       [ 4.5201104 ,  0.56109942],\n",
       "       [ 3.96311558, -0.35640785],\n",
       "       [ 4.76513342,  2.42529461],\n",
       "       [ 4.04727581, -1.62886633],\n",
       "       [ 4.51513521, -4.99482953],\n",
       "       [ 4.29038762,  0.86676868],\n",
       "       [ 4.81365939,  2.10390625],\n",
       "       [ 4.38439361,  0.9778536 ],\n",
       "       [ 4.59351022,  1.93080225]])"
      ]
     },
     "execution_count": 41,
     "metadata": {},
     "output_type": "execute_result"
    }
   ],
   "source": [
    "# Apply SVD (Latent Semantic Analysis)\n",
    "n_components = 2  # Number of components after reducing dimensions\n",
    "lsa = TruncatedSVD(n_components)\n",
    "X_lsa = lsa.fit_transform(X)\n",
    "X_lsa"
   ]
  },
  {
   "cell_type": "code",
   "execution_count": 42,
   "metadata": {},
   "outputs": [
    {
     "name": "stdout",
     "output_type": "stream",
     "text": [
      "\n",
      "LSA Reduced Dimensionality:\n",
      "[[ 0.89851252 -0.4389479 ]\n",
      " [ 0.8700604  -0.49294513]\n",
      " [ 0.99305129  0.11768232]\n",
      " [ 0.99780803  0.06617503]\n",
      " [ 0.97163491  0.23648593]\n",
      " [ 0.99275044  0.12019385]\n",
      " [ 0.99656743 -0.08278497]\n",
      " [ 0.89274381  0.45056463]\n",
      " [ 0.9301879  -0.36708374]\n",
      " [ 0.67076193 -0.74167273]\n",
      " [ 0.98060988  0.19597006]\n",
      " [ 0.91675801  0.39944305]\n",
      " [ 0.97429248  0.22528684]\n",
      " [ 0.92154116  0.38828068]]\n"
     ]
    }
   ],
   "source": [
    "# Normalize the transformed data\n",
    "lsa_pipeline = make_pipeline(lsa, Normalizer(copy=False))\n",
    "X_lsa_normalized = lsa_pipeline.fit_transform(X)\n",
    "print(\"\\nLSA Reduced Dimensionality:\")\n",
    "print(X_lsa_normalized)"
   ]
  },
  {
   "cell_type": "markdown",
   "metadata": {},
   "source": [
    "## Part 2: The Workshop"
   ]
  },
  {
   "cell_type": "markdown",
   "metadata": {},
   "source": [
    "\n",
    "One team member must push the final notebook to GitHub and send the `.git` URL to the instructor before the end of class."
   ]
  },
  {
   "cell_type": "markdown",
   "metadata": {},
   "source": [
    "## 🧠 Learning Objectives\n",
    "- Implement **Word2Vec**  and **GloVe** using real-world data during the NLP process.\n",
    "- Build **Jupyter Notebooks** with well-structured code and clear Markdown documentation.\n",
    "- Use **Git and GitHub** for collaborative version control and code sharing.\n",
    "- Identify and articulate coding issues (\"**talking points**\") and insert them directly into peer notebooks.\n",
    "- Practice **collaborative debugging**, professional peer feedback, and improve code quality.\n",
    "\n",
    "## 🧩 Workshop Structure (90 Minutes)\n",
    "1. **Instructor-led demo of predictive and count-based models** *(20 min)* – Set up teams of 3 people. Read and understand the workshop, plus submission instructions. Seek assistance if needed.\n",
    "2. **Team Jupyter Notebook Development** *(65 min)* – NLP Pipeline and four Probabilistic Language Model method implementations + Markdown documentation (work as teams)\n",
    "3. **Push to GitHub** *(5 min)* – Teams commit and push the one notebook. **Make sure to include your names so it is easy to identify the team that developed the code**.\n",
    "4. **Instructor Review** - The instructor will go around, take notes, and provide coaching as needed, during the **Peer Review Round**\n",
    "5. **Email Delivery** *(1 min)* – Each team send the instructor an email **with the *.git link** to the GitHub repo **(one email/team)**. Subject on the email is: PROG8245 - Embeddings, Clustering, and Vectorization Workshop, Team #_____.\n",
    "\n",
    "\n",
    "## 💻 Submission Checklist\n",
    "- ✅ `EmbeddingClusteringVectorizationWorkshop.ipynb` with:\n",
    "  - Demo code: Document Collection, Tokenizer, Normalization Pipeline on a relevant corpus (i.e., for your final project).\n",
    "  - Demo code: Implement a Word2Vec predictive model using the knowledge corpus.\n",
    "  - Demo code: Implement a GloVe count-based model using the knowledge corpus.\n",
    "  - Markdown explanations for each major step\n",
    "  - **Labeled talking point(s)** in a table that compares **Word2Vec** against **GloVe** in the context of the use case that makes use of the knowledge corpus.\n",
    "- ✅ `README.md` with:\n",
    "  - Dataset description\n",
    "  - Team member names\n",
    "  - Link to the dataset and license (if public)\n",
    "- ✅ GitHub Repo:\n",
    "  - Public repo named `EmbeddingClusteringVectorizationWorkshop`\n",
    "  - This is a group effort, so **choose one member of the team** to publish the repo\n",
    "  - At least **one commit containing one meaningful talking point**"
   ]
  }
 ],
 "metadata": {
  "kernelspec": {
   "display_name": ".venv",
   "language": "python",
   "name": "python3"
  },
  "language_info": {
   "codemirror_mode": {
    "name": "ipython",
    "version": 3
   },
   "file_extension": ".py",
   "mimetype": "text/x-python",
   "name": "python",
   "nbconvert_exporter": "python",
   "pygments_lexer": "ipython3",
   "version": "3.11.9"
  },
  "orig_nbformat": 4
 },
 "nbformat": 4,
 "nbformat_minor": 2
}
